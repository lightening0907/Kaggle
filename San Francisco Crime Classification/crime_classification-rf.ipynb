{
 "cells": [
  {
   "cell_type": "code",
   "execution_count": 4,
   "metadata": {},
   "outputs": [
    {
     "data": {
      "text/plain": [
       "<matplotlib.figure.Figure at 0x118251d50>"
      ]
     },
     "metadata": {},
     "output_type": "display_data"
    }
   ],
   "source": [
    "import requests, zipfile, StringIO\n",
    "%matplotlib inline\n",
    "from matplotlib import pyplot as plt\n",
    "import numpy as np\n",
    "import pandas as pd\n",
    "from sklearn.preprocessing import StandardScaler\n",
    "from sklearn import preprocessing,linear_model,cross_validation \n",
    "from sklearn.metrics import log_loss\n",
    "import pickle\n",
    "from copy import deepcopy\n",
    "import seaborn as sns\n",
    "# Plotting Options\n",
    "sns.set_style(\"whitegrid\")\n",
    "sns.despine()"
   ]
  },
  {
   "cell_type": "code",
   "execution_count": 2,
   "metadata": {
    "collapsed": true
   },
   "outputs": [],
   "source": [
    "def read_csv_zip(filename):\n",
    "    z = zipfile.ZipFile(filename+'.zip')\n",
    "    df = pd.read_csv(z.open(filename))\n",
    "    return df\n",
    "train = read_csv_zip(\"train.csv\")\n",
    "test = read_csv_zip(\"test.csv\")"
   ]
  },
  {
   "cell_type": "code",
   "execution_count": 3,
   "metadata": {
    "collapsed": true
   },
   "outputs": [],
   "source": [
    "train['X']=train['X'].apply(lambda x: -122.4313 if x>-122.3 else x)\n",
    "test['X']=test['X'].apply(lambda x: -122.4313 if x>-122.3 else x)\n",
    "train['Y']=train['Y'].apply(lambda x: 37.7799 if x>38 else x)\n",
    "test['Y']=test['Y'].apply(lambda x: 37.7799 if x>38 else x)"
   ]
  },
  {
   "cell_type": "code",
   "execution_count": 4,
   "metadata": {},
   "outputs": [],
   "source": [
    "#train[\"Address\"].value_counts()[:20].plot(kind=\"bar\")"
   ]
  },
  {
   "cell_type": "code",
   "execution_count": 5,
   "metadata": {},
   "outputs": [],
   "source": [
    "# train[\"Category\"].value_counts()"
   ]
  },
  {
   "cell_type": "code",
   "execution_count": 6,
   "metadata": {},
   "outputs": [],
   "source": [
    "# top_10_crime"
   ]
  },
  {
   "cell_type": "code",
   "execution_count": 7,
   "metadata": {},
   "outputs": [],
   "source": [
    "# train[\"PdDistrict\"].value_counts()"
   ]
  },
  {
   "cell_type": "code",
   "execution_count": 8,
   "metadata": {
    "collapsed": true
   },
   "outputs": [],
   "source": [
    "def DateTimeFeature(df,dateColumn):\n",
    "    df[\"DateIndex\"] = pd.to_datetime(df[dateColumn])\n",
    "    df[\"Year\"] = df[\"DateIndex\"].apply(lambda x: x.year)\n",
    "    df[\"Month\"] = df[\"DateIndex\"].apply(lambda x: x.month)\n",
    "    df[\"WeekDay\"] = df[\"DateIndex\"].apply(lambda x: x.weekday())\n",
    "    df[\"Hour\"] = df[\"DateIndex\"].apply(lambda x: x.hour)   \n",
    "\n"
   ]
  },
  {
   "cell_type": "code",
   "execution_count": 9,
   "metadata": {},
   "outputs": [],
   "source": [
    "DateTimeFeature(train,\"Dates\")"
   ]
  },
  {
   "cell_type": "code",
   "execution_count": 10,
   "metadata": {
    "collapsed": true
   },
   "outputs": [],
   "source": [
    "DateTimeFeature(test,\"Dates\")"
   ]
  },
  {
   "cell_type": "markdown",
   "metadata": {},
   "source": [
    "top 10 crime \n",
    "'LARCENY/THEFT',\n",
    " 'OTHER OFFENSES',\n",
    " 'NON-CRIMINAL',\n",
    " 'ASSAULT',\n",
    " 'DRUG/NARCOTIC',\n",
    " 'VEHICLE THEFT',\n",
    " 'VANDALISM',\n",
    " 'WARRANTS',\n",
    " 'BURGLARY',\n",
    " 'SUSPICIOUS OCC'"
   ]
  },
  {
   "cell_type": "code",
   "execution_count": 6,
   "metadata": {
    "collapsed": true
   },
   "outputs": [],
   "source": []
  },
  {
   "cell_type": "code",
   "execution_count": 5,
   "metadata": {},
   "outputs": [],
   "source": [
    "category_encoded = preprocessing.LabelEncoder()\n",
    "category_encoded.fit(train[\"Category\"])\n",
    "train[\"category_encoded\"] = category_encoded.transform(train[\"Category\"])\n"
   ]
  },
  {
   "cell_type": "code",
   "execution_count": 13,
   "metadata": {},
   "outputs": [],
   "source": [
    "address_encoded = preprocessing.LabelEncoder()\n",
    "address_encoded.fit(list(train[\"Address\"])+list(test[\"Address\"]))\n",
    "train[\"address_encoded\"] = address_encoded.transform(train[\"Address\"])\n",
    "test[\"address_encoded\"] = address_encoded.transform(test[\"Address\"])"
   ]
  },
  {
   "cell_type": "markdown",
   "metadata": {},
   "source": [
    "Learning with Counts,\n",
    "referene: https://msdn.microsoft.com/en-us/library/azure/dn913056.aspx\n",
    "https://www.kaggle.com/c/sf-crime/forums/t/15836/predicting-crime-categories-with-address-featurization-and-neural-nets\n",
    "log odds of (# address A have Crime C/ # of address A) "
   ]
  },
  {
   "cell_type": "code",
   "execution_count": 14,
   "metadata": {},
   "outputs": [],
   "source": [
    "addresses=sorted(train[\"address_encoded\"].unique())\n",
    "categories=sorted(train[\"category_encoded\"].unique())\n",
    "C_counts=train.groupby([\"category_encoded\"]).size()\n",
    "A_C_counts=train.groupby([\"address_encoded\",\"category_encoded\"]).size()\n",
    "A_counts=train.groupby([\"address_encoded\"]).size()"
   ]
  },
  {
   "cell_type": "code",
   "execution_count": 15,
   "metadata": {},
   "outputs": [],
   "source": [
    "\n",
    "logodds={}\n",
    "logoddsPA={}\n",
    "MIN_CAT_COUNTS=2\n",
    "row = float(len(train))\n",
    "default_logodds=np.log(C_counts/row)-np.log(1.0-C_counts/row)\n",
    "for addr in addresses:\n",
    "    PA = A_counts[addr]/row\n",
    "    logoddsPA[addr] = np.log(PA) - np.log(1.-PA)\n",
    "    logodds[addr] = deepcopy(default_logodds)\n",
    "    for cat in A_C_counts[addr].keys():\n",
    "        if A_C_counts[addr][cat]> MIN_CAT_COUNTS and A_C_counts[addr][cat]<A_counts[addr]:\n",
    "            P_A_C = A_C_counts[addr][cat]/float(A_counts[addr])\n",
    "            logodds[addr][cat] = np.log(P_A_C) - np.log(1.0 - P_A_C)\n",
    "        logodds[addr] = pd.Series(logodds[addr],index = categories )\n",
    "            \n",
    "            \n",
    "    "
   ]
  },
  {
   "cell_type": "code",
   "execution_count": 16,
   "metadata": {},
   "outputs": [],
   "source": [
    "def address_feature(df,logodds,logoddsPA,categories):\n",
    "    df[\"logoddsPA\"] = df[\"address_encoded\"].apply(lambda x: logoddsPA[x])\n",
    "    logoddsPAC = df[\"address_encoded\"].apply(lambda x: logodds[x])\n",
    "    df[\"Intersection\"] = df[\"Address\"].apply(lambda x: 1 if \"/\" in x else 0)\n",
    "    logoddsPAC.columns = [\"logodds\" + str(cat) for cat in categories]\n",
    "    df = df.join(logoddsPAC.ix[:,:])\n",
    "    address_feature =[\"Intersection\",\"logoddsPA\"]\n",
    "    address_feature.extend(logoddsPAC.columns)\n",
    "    # print df.head()\n",
    "    return address_feature,df\n",
    "train_address_feature,train = address_feature(train,logodds,logoddsPA,categories)    "
   ]
  },
  {
   "cell_type": "code",
   "execution_count": 17,
   "metadata": {},
   "outputs": [],
   "source": [
    "categorical_feature = [\"PdDistrict\",\"Month\",\"DayOfWeek\"]\n",
    "def categorical_feature_preprocess(categorical_feature,dataset):\n",
    "    list_categorical = []\n",
    "    for col in categorical_feature:\n",
    "        dummy = pd.get_dummies(dataset[col])\n",
    "        list_categorical.append(dummy)\n",
    "    dataset_categorical = pd.concat(list_categorical,axis=1)\n",
    "    return dataset_categorical\n",
    "\n",
    "train_categorical = categorical_feature_preprocess(categorical_feature,train)"
   ]
  },
  {
   "cell_type": "code",
   "execution_count": 18,
   "metadata": {
    "collapsed": true
   },
   "outputs": [],
   "source": [
    "test_categorical = categorical_feature_preprocess(categorical_feature,test)"
   ]
  },
  {
   "cell_type": "code",
   "execution_count": 19,
   "metadata": {},
   "outputs": [],
   "source": [
    "#Update the odds of address for the test data\n",
    "new_addresses=sorted(test[\"address_encoded\"].unique())\n",
    "new_A_counts = test.groupby(\"address_encoded\").size()\n",
    "only_new=set(new_addresses+addresses)-set(addresses)\n",
    "only_old=set(new_addresses+addresses)-set(new_addresses)\n",
    "in_both=set(new_addresses).intersection(addresses)\n",
    "for addr in only_new:\n",
    "    PA = new_A_counts[addr]/float(len(test)+len(train))\n",
    "    logoddsPA[addr] = np.log(PA) - np.log(1. - PA)\n",
    "    logodds[addr] = deepcopy(default_logodds)\n",
    "    logodds[addr].index=range(len(categories))\n",
    "for addr in in_both:\n",
    "    PA = (new_A_counts[addr] + A_counts[addr])/float(len(test)+len(train))\n",
    "    logoddsPA[addr] = np.log(PA) - np.log(1. - PA)\n",
    "test_address_feature,test = address_feature(test,logodds,logoddsPA,categories)\n"
   ]
  },
  {
   "cell_type": "code",
   "execution_count": 20,
   "metadata": {},
   "outputs": [
    {
     "data": {
      "text/html": [
       "<div>\n",
       "<table border=\"1\" class=\"dataframe\">\n",
       "  <thead>\n",
       "    <tr style=\"text-align: right;\">\n",
       "      <th></th>\n",
       "      <th>Id</th>\n",
       "      <th>Dates</th>\n",
       "      <th>DayOfWeek</th>\n",
       "      <th>PdDistrict</th>\n",
       "      <th>Address</th>\n",
       "      <th>X</th>\n",
       "      <th>Y</th>\n",
       "      <th>DateIndex</th>\n",
       "      <th>Year</th>\n",
       "      <th>Month</th>\n",
       "      <th>...</th>\n",
       "      <th>logodds29</th>\n",
       "      <th>logodds30</th>\n",
       "      <th>logodds31</th>\n",
       "      <th>logodds32</th>\n",
       "      <th>logodds33</th>\n",
       "      <th>logodds34</th>\n",
       "      <th>logodds35</th>\n",
       "      <th>logodds36</th>\n",
       "      <th>logodds37</th>\n",
       "      <th>logodds38</th>\n",
       "    </tr>\n",
       "  </thead>\n",
       "  <tbody>\n",
       "    <tr>\n",
       "      <th>0</th>\n",
       "      <td>0</td>\n",
       "      <td>2015-05-10 23:59:00</td>\n",
       "      <td>Sunday</td>\n",
       "      <td>BAYVIEW</td>\n",
       "      <td>2000 Block of THOMAS AV</td>\n",
       "      <td>-122.399588</td>\n",
       "      <td>37.735051</td>\n",
       "      <td>2015-05-10 23:59:00</td>\n",
       "      <td>2015</td>\n",
       "      <td>5</td>\n",
       "      <td>...</td>\n",
       "      <td>-8.688077</td>\n",
       "      <td>-5.259591</td>\n",
       "      <td>-7.454398</td>\n",
       "      <td>-2.772589</td>\n",
       "      <td>-11.893691</td>\n",
       "      <td>-4.777894</td>\n",
       "      <td>-2.533697</td>\n",
       "      <td>-2.335375</td>\n",
       "      <td>-2.533697</td>\n",
       "      <td>-4.621396</td>\n",
       "    </tr>\n",
       "    <tr>\n",
       "      <th>1</th>\n",
       "      <td>1</td>\n",
       "      <td>2015-05-10 23:51:00</td>\n",
       "      <td>Sunday</td>\n",
       "      <td>BAYVIEW</td>\n",
       "      <td>3RD ST / REVERE AV</td>\n",
       "      <td>-122.391523</td>\n",
       "      <td>37.732432</td>\n",
       "      <td>2015-05-10 23:51:00</td>\n",
       "      <td>2015</td>\n",
       "      <td>5</td>\n",
       "      <td>...</td>\n",
       "      <td>-8.688077</td>\n",
       "      <td>-5.259591</td>\n",
       "      <td>-7.454398</td>\n",
       "      <td>-3.332205</td>\n",
       "      <td>-11.893691</td>\n",
       "      <td>-4.777894</td>\n",
       "      <td>-2.924890</td>\n",
       "      <td>-2.682075</td>\n",
       "      <td>-2.159484</td>\n",
       "      <td>-4.199705</td>\n",
       "    </tr>\n",
       "    <tr>\n",
       "      <th>2</th>\n",
       "      <td>2</td>\n",
       "      <td>2015-05-10 23:50:00</td>\n",
       "      <td>Sunday</td>\n",
       "      <td>NORTHERN</td>\n",
       "      <td>2000 Block of GOUGH ST</td>\n",
       "      <td>-122.426002</td>\n",
       "      <td>37.792212</td>\n",
       "      <td>2015-05-10 23:50:00</td>\n",
       "      <td>2015</td>\n",
       "      <td>5</td>\n",
       "      <td>...</td>\n",
       "      <td>-8.688077</td>\n",
       "      <td>-5.259591</td>\n",
       "      <td>-7.454398</td>\n",
       "      <td>-3.294016</td>\n",
       "      <td>-11.893691</td>\n",
       "      <td>-4.777894</td>\n",
       "      <td>-2.924890</td>\n",
       "      <td>-1.223775</td>\n",
       "      <td>-2.985679</td>\n",
       "      <td>-4.621396</td>\n",
       "    </tr>\n",
       "    <tr>\n",
       "      <th>3</th>\n",
       "      <td>3</td>\n",
       "      <td>2015-05-10 23:45:00</td>\n",
       "      <td>Sunday</td>\n",
       "      <td>INGLESIDE</td>\n",
       "      <td>4700 Block of MISSION ST</td>\n",
       "      <td>-122.437394</td>\n",
       "      <td>37.721412</td>\n",
       "      <td>2015-05-10 23:45:00</td>\n",
       "      <td>2015</td>\n",
       "      <td>5</td>\n",
       "      <td>...</td>\n",
       "      <td>-8.688077</td>\n",
       "      <td>-5.259591</td>\n",
       "      <td>-7.454398</td>\n",
       "      <td>-2.888233</td>\n",
       "      <td>-11.893691</td>\n",
       "      <td>-5.095793</td>\n",
       "      <td>-2.373798</td>\n",
       "      <td>-4.240298</td>\n",
       "      <td>-2.929592</td>\n",
       "      <td>-3.608837</td>\n",
       "    </tr>\n",
       "    <tr>\n",
       "      <th>4</th>\n",
       "      <td>4</td>\n",
       "      <td>2015-05-10 23:45:00</td>\n",
       "      <td>Sunday</td>\n",
       "      <td>INGLESIDE</td>\n",
       "      <td>4700 Block of MISSION ST</td>\n",
       "      <td>-122.437394</td>\n",
       "      <td>37.721412</td>\n",
       "      <td>2015-05-10 23:45:00</td>\n",
       "      <td>2015</td>\n",
       "      <td>5</td>\n",
       "      <td>...</td>\n",
       "      <td>-8.688077</td>\n",
       "      <td>-5.259591</td>\n",
       "      <td>-7.454398</td>\n",
       "      <td>-2.888233</td>\n",
       "      <td>-11.893691</td>\n",
       "      <td>-5.095793</td>\n",
       "      <td>-2.373798</td>\n",
       "      <td>-4.240298</td>\n",
       "      <td>-2.929592</td>\n",
       "      <td>-3.608837</td>\n",
       "    </tr>\n",
       "  </tbody>\n",
       "</table>\n",
       "<p>5 rows × 54 columns</p>\n",
       "</div>"
      ],
      "text/plain": [
       "   Id                Dates DayOfWeek PdDistrict                   Address  \\\n",
       "0   0  2015-05-10 23:59:00    Sunday    BAYVIEW   2000 Block of THOMAS AV   \n",
       "1   1  2015-05-10 23:51:00    Sunday    BAYVIEW        3RD ST / REVERE AV   \n",
       "2   2  2015-05-10 23:50:00    Sunday   NORTHERN    2000 Block of GOUGH ST   \n",
       "3   3  2015-05-10 23:45:00    Sunday  INGLESIDE  4700 Block of MISSION ST   \n",
       "4   4  2015-05-10 23:45:00    Sunday  INGLESIDE  4700 Block of MISSION ST   \n",
       "\n",
       "            X          Y           DateIndex  Year  Month    ...      \\\n",
       "0 -122.399588  37.735051 2015-05-10 23:59:00  2015      5    ...       \n",
       "1 -122.391523  37.732432 2015-05-10 23:51:00  2015      5    ...       \n",
       "2 -122.426002  37.792212 2015-05-10 23:50:00  2015      5    ...       \n",
       "3 -122.437394  37.721412 2015-05-10 23:45:00  2015      5    ...       \n",
       "4 -122.437394  37.721412 2015-05-10 23:45:00  2015      5    ...       \n",
       "\n",
       "   logodds29  logodds30  logodds31  logodds32  logodds33  logodds34  \\\n",
       "0  -8.688077  -5.259591  -7.454398  -2.772589 -11.893691  -4.777894   \n",
       "1  -8.688077  -5.259591  -7.454398  -3.332205 -11.893691  -4.777894   \n",
       "2  -8.688077  -5.259591  -7.454398  -3.294016 -11.893691  -4.777894   \n",
       "3  -8.688077  -5.259591  -7.454398  -2.888233 -11.893691  -5.095793   \n",
       "4  -8.688077  -5.259591  -7.454398  -2.888233 -11.893691  -5.095793   \n",
       "\n",
       "   logodds35  logodds36  logodds37  logodds38  \n",
       "0  -2.533697  -2.335375  -2.533697  -4.621396  \n",
       "1  -2.924890  -2.682075  -2.159484  -4.199705  \n",
       "2  -2.924890  -1.223775  -2.985679  -4.621396  \n",
       "3  -2.373798  -4.240298  -2.929592  -3.608837  \n",
       "4  -2.373798  -4.240298  -2.929592  -3.608837  \n",
       "\n",
       "[5 rows x 54 columns]"
      ]
     },
     "execution_count": 20,
     "metadata": {},
     "output_type": "execute_result"
    }
   ],
   "source": [
    "test.head()"
   ]
  },
  {
   "cell_type": "code",
   "execution_count": 21,
   "metadata": {},
   "outputs": [
    {
     "name": "stderr",
     "output_type": "stream",
     "text": [
      "/Users/ChiYuan/anaconda/lib/python2.7/site-packages/sklearn/utils/validation.py:420: DataConversionWarning: Data with input dtype int64 was converted to float64 by StandardScaler.\n",
      "  warnings.warn(msg, DataConversionWarning)\n",
      "/Users/ChiYuan/anaconda/lib/python2.7/site-packages/sklearn/preprocessing/data.py:583: DeprecationWarning: Passing 1d arrays as data is deprecated in 0.17 and will raise ValueError in 0.19. Reshape your data either using X.reshape(-1, 1) if your data has a single feature or X.reshape(1, -1) if it contains a single sample.\n",
      "  warnings.warn(DEPRECATION_MSG_1D, DeprecationWarning)\n",
      "/Users/ChiYuan/anaconda/lib/python2.7/site-packages/sklearn/utils/validation.py:420: DataConversionWarning: Data with input dtype int64 was converted to float64 by StandardScaler.\n",
      "  warnings.warn(msg, DataConversionWarning)\n",
      "/Users/ChiYuan/anaconda/lib/python2.7/site-packages/sklearn/utils/validation.py:420: DataConversionWarning: Data with input dtype int64 was converted to float64 by StandardScaler.\n",
      "  warnings.warn(msg, DataConversionWarning)\n",
      "/Users/ChiYuan/anaconda/lib/python2.7/site-packages/sklearn/utils/validation.py:420: DataConversionWarning: Data with input dtype int64 was converted to float64 by StandardScaler.\n",
      "  warnings.warn(msg, DataConversionWarning)\n",
      "/Users/ChiYuan/anaconda/lib/python2.7/site-packages/sklearn/preprocessing/data.py:583: DeprecationWarning: Passing 1d arrays as data is deprecated in 0.17 and will raise ValueError in 0.19. Reshape your data either using X.reshape(-1, 1) if your data has a single feature or X.reshape(1, -1) if it contains a single sample.\n",
      "  warnings.warn(DEPRECATION_MSG_1D, DeprecationWarning)\n",
      "/Users/ChiYuan/anaconda/lib/python2.7/site-packages/sklearn/utils/validation.py:420: DataConversionWarning: Data with input dtype int64 was converted to float64 by StandardScaler.\n",
      "  warnings.warn(msg, DataConversionWarning)\n",
      "/Users/ChiYuan/anaconda/lib/python2.7/site-packages/sklearn/utils/validation.py:420: DataConversionWarning: Data with input dtype int64 was converted to float64 by StandardScaler.\n",
      "  warnings.warn(msg, DataConversionWarning)\n",
      "/Users/ChiYuan/anaconda/lib/python2.7/site-packages/sklearn/preprocessing/data.py:583: DeprecationWarning: Passing 1d arrays as data is deprecated in 0.17 and will raise ValueError in 0.19. Reshape your data either using X.reshape(-1, 1) if your data has a single feature or X.reshape(1, -1) if it contains a single sample.\n",
      "  warnings.warn(DEPRECATION_MSG_1D, DeprecationWarning)\n",
      "/Users/ChiYuan/anaconda/lib/python2.7/site-packages/sklearn/preprocessing/data.py:583: DeprecationWarning: Passing 1d arrays as data is deprecated in 0.17 and will raise ValueError in 0.19. Reshape your data either using X.reshape(-1, 1) if your data has a single feature or X.reshape(1, -1) if it contains a single sample.\n",
      "  warnings.warn(DEPRECATION_MSG_1D, DeprecationWarning)\n",
      "/Users/ChiYuan/anaconda/lib/python2.7/site-packages/sklearn/preprocessing/data.py:583: DeprecationWarning: Passing 1d arrays as data is deprecated in 0.17 and will raise ValueError in 0.19. Reshape your data either using X.reshape(-1, 1) if your data has a single feature or X.reshape(1, -1) if it contains a single sample.\n",
      "  warnings.warn(DEPRECATION_MSG_1D, DeprecationWarning)\n",
      "/Users/ChiYuan/anaconda/lib/python2.7/site-packages/sklearn/preprocessing/data.py:583: DeprecationWarning: Passing 1d arrays as data is deprecated in 0.17 and will raise ValueError in 0.19. Reshape your data either using X.reshape(-1, 1) if your data has a single feature or X.reshape(1, -1) if it contains a single sample.\n",
      "  warnings.warn(DEPRECATION_MSG_1D, DeprecationWarning)\n",
      "/Users/ChiYuan/anaconda/lib/python2.7/site-packages/sklearn/preprocessing/data.py:583: DeprecationWarning: Passing 1d arrays as data is deprecated in 0.17 and will raise ValueError in 0.19. Reshape your data either using X.reshape(-1, 1) if your data has a single feature or X.reshape(1, -1) if it contains a single sample.\n",
      "  warnings.warn(DEPRECATION_MSG_1D, DeprecationWarning)\n",
      "/Users/ChiYuan/anaconda/lib/python2.7/site-packages/sklearn/preprocessing/data.py:583: DeprecationWarning: Passing 1d arrays as data is deprecated in 0.17 and will raise ValueError in 0.19. Reshape your data either using X.reshape(-1, 1) if your data has a single feature or X.reshape(1, -1) if it contains a single sample.\n",
      "  warnings.warn(DEPRECATION_MSG_1D, DeprecationWarning)\n",
      "/Users/ChiYuan/anaconda/lib/python2.7/site-packages/sklearn/preprocessing/data.py:583: DeprecationWarning: Passing 1d arrays as data is deprecated in 0.17 and will raise ValueError in 0.19. Reshape your data either using X.reshape(-1, 1) if your data has a single feature or X.reshape(1, -1) if it contains a single sample.\n",
      "  warnings.warn(DEPRECATION_MSG_1D, DeprecationWarning)\n",
      "/Users/ChiYuan/anaconda/lib/python2.7/site-packages/sklearn/preprocessing/data.py:583: DeprecationWarning: Passing 1d arrays as data is deprecated in 0.17 and will raise ValueError in 0.19. Reshape your data either using X.reshape(-1, 1) if your data has a single feature or X.reshape(1, -1) if it contains a single sample.\n",
      "  warnings.warn(DEPRECATION_MSG_1D, DeprecationWarning)\n",
      "/Users/ChiYuan/anaconda/lib/python2.7/site-packages/sklearn/preprocessing/data.py:583: DeprecationWarning: Passing 1d arrays as data is deprecated in 0.17 and will raise ValueError in 0.19. Reshape your data either using X.reshape(-1, 1) if your data has a single feature or X.reshape(1, -1) if it contains a single sample.\n",
      "  warnings.warn(DEPRECATION_MSG_1D, DeprecationWarning)\n",
      "/Users/ChiYuan/anaconda/lib/python2.7/site-packages/sklearn/preprocessing/data.py:583: DeprecationWarning: Passing 1d arrays as data is deprecated in 0.17 and will raise ValueError in 0.19. Reshape your data either using X.reshape(-1, 1) if your data has a single feature or X.reshape(1, -1) if it contains a single sample.\n",
      "  warnings.warn(DEPRECATION_MSG_1D, DeprecationWarning)\n",
      "/Users/ChiYuan/anaconda/lib/python2.7/site-packages/sklearn/preprocessing/data.py:583: DeprecationWarning: Passing 1d arrays as data is deprecated in 0.17 and will raise ValueError in 0.19. Reshape your data either using X.reshape(-1, 1) if your data has a single feature or X.reshape(1, -1) if it contains a single sample.\n",
      "  warnings.warn(DEPRECATION_MSG_1D, DeprecationWarning)\n",
      "/Users/ChiYuan/anaconda/lib/python2.7/site-packages/sklearn/preprocessing/data.py:583: DeprecationWarning: Passing 1d arrays as data is deprecated in 0.17 and will raise ValueError in 0.19. Reshape your data either using X.reshape(-1, 1) if your data has a single feature or X.reshape(1, -1) if it contains a single sample.\n",
      "  warnings.warn(DEPRECATION_MSG_1D, DeprecationWarning)\n",
      "/Users/ChiYuan/anaconda/lib/python2.7/site-packages/sklearn/preprocessing/data.py:583: DeprecationWarning: Passing 1d arrays as data is deprecated in 0.17 and will raise ValueError in 0.19. Reshape your data either using X.reshape(-1, 1) if your data has a single feature or X.reshape(1, -1) if it contains a single sample.\n",
      "  warnings.warn(DEPRECATION_MSG_1D, DeprecationWarning)\n",
      "/Users/ChiYuan/anaconda/lib/python2.7/site-packages/sklearn/preprocessing/data.py:583: DeprecationWarning: Passing 1d arrays as data is deprecated in 0.17 and will raise ValueError in 0.19. Reshape your data either using X.reshape(-1, 1) if your data has a single feature or X.reshape(1, -1) if it contains a single sample.\n",
      "  warnings.warn(DEPRECATION_MSG_1D, DeprecationWarning)\n",
      "/Users/ChiYuan/anaconda/lib/python2.7/site-packages/sklearn/preprocessing/data.py:583: DeprecationWarning: Passing 1d arrays as data is deprecated in 0.17 and will raise ValueError in 0.19. Reshape your data either using X.reshape(-1, 1) if your data has a single feature or X.reshape(1, -1) if it contains a single sample.\n",
      "  warnings.warn(DEPRECATION_MSG_1D, DeprecationWarning)\n",
      "/Users/ChiYuan/anaconda/lib/python2.7/site-packages/sklearn/preprocessing/data.py:583: DeprecationWarning: Passing 1d arrays as data is deprecated in 0.17 and will raise ValueError in 0.19. Reshape your data either using X.reshape(-1, 1) if your data has a single feature or X.reshape(1, -1) if it contains a single sample.\n",
      "  warnings.warn(DEPRECATION_MSG_1D, DeprecationWarning)\n",
      "/Users/ChiYuan/anaconda/lib/python2.7/site-packages/sklearn/preprocessing/data.py:583: DeprecationWarning: Passing 1d arrays as data is deprecated in 0.17 and will raise ValueError in 0.19. Reshape your data either using X.reshape(-1, 1) if your data has a single feature or X.reshape(1, -1) if it contains a single sample.\n",
      "  warnings.warn(DEPRECATION_MSG_1D, DeprecationWarning)\n",
      "/Users/ChiYuan/anaconda/lib/python2.7/site-packages/sklearn/preprocessing/data.py:583: DeprecationWarning: Passing 1d arrays as data is deprecated in 0.17 and will raise ValueError in 0.19. Reshape your data either using X.reshape(-1, 1) if your data has a single feature or X.reshape(1, -1) if it contains a single sample.\n",
      "  warnings.warn(DEPRECATION_MSG_1D, DeprecationWarning)\n",
      "/Users/ChiYuan/anaconda/lib/python2.7/site-packages/sklearn/preprocessing/data.py:583: DeprecationWarning: Passing 1d arrays as data is deprecated in 0.17 and will raise ValueError in 0.19. Reshape your data either using X.reshape(-1, 1) if your data has a single feature or X.reshape(1, -1) if it contains a single sample.\n",
      "  warnings.warn(DEPRECATION_MSG_1D, DeprecationWarning)\n",
      "/Users/ChiYuan/anaconda/lib/python2.7/site-packages/sklearn/preprocessing/data.py:583: DeprecationWarning: Passing 1d arrays as data is deprecated in 0.17 and will raise ValueError in 0.19. Reshape your data either using X.reshape(-1, 1) if your data has a single feature or X.reshape(1, -1) if it contains a single sample.\n",
      "  warnings.warn(DEPRECATION_MSG_1D, DeprecationWarning)\n",
      "/Users/ChiYuan/anaconda/lib/python2.7/site-packages/sklearn/preprocessing/data.py:583: DeprecationWarning: Passing 1d arrays as data is deprecated in 0.17 and will raise ValueError in 0.19. Reshape your data either using X.reshape(-1, 1) if your data has a single feature or X.reshape(1, -1) if it contains a single sample.\n",
      "  warnings.warn(DEPRECATION_MSG_1D, DeprecationWarning)\n",
      "/Users/ChiYuan/anaconda/lib/python2.7/site-packages/sklearn/preprocessing/data.py:583: DeprecationWarning: Passing 1d arrays as data is deprecated in 0.17 and will raise ValueError in 0.19. Reshape your data either using X.reshape(-1, 1) if your data has a single feature or X.reshape(1, -1) if it contains a single sample.\n",
      "  warnings.warn(DEPRECATION_MSG_1D, DeprecationWarning)\n",
      "/Users/ChiYuan/anaconda/lib/python2.7/site-packages/sklearn/preprocessing/data.py:583: DeprecationWarning: Passing 1d arrays as data is deprecated in 0.17 and will raise ValueError in 0.19. Reshape your data either using X.reshape(-1, 1) if your data has a single feature or X.reshape(1, -1) if it contains a single sample.\n",
      "  warnings.warn(DEPRECATION_MSG_1D, DeprecationWarning)\n",
      "/Users/ChiYuan/anaconda/lib/python2.7/site-packages/sklearn/preprocessing/data.py:583: DeprecationWarning: Passing 1d arrays as data is deprecated in 0.17 and will raise ValueError in 0.19. Reshape your data either using X.reshape(-1, 1) if your data has a single feature or X.reshape(1, -1) if it contains a single sample.\n",
      "  warnings.warn(DEPRECATION_MSG_1D, DeprecationWarning)\n",
      "/Users/ChiYuan/anaconda/lib/python2.7/site-packages/sklearn/preprocessing/data.py:583: DeprecationWarning: Passing 1d arrays as data is deprecated in 0.17 and will raise ValueError in 0.19. Reshape your data either using X.reshape(-1, 1) if your data has a single feature or X.reshape(1, -1) if it contains a single sample.\n",
      "  warnings.warn(DEPRECATION_MSG_1D, DeprecationWarning)\n",
      "/Users/ChiYuan/anaconda/lib/python2.7/site-packages/sklearn/preprocessing/data.py:583: DeprecationWarning: Passing 1d arrays as data is deprecated in 0.17 and will raise ValueError in 0.19. Reshape your data either using X.reshape(-1, 1) if your data has a single feature or X.reshape(1, -1) if it contains a single sample.\n",
      "  warnings.warn(DEPRECATION_MSG_1D, DeprecationWarning)\n",
      "/Users/ChiYuan/anaconda/lib/python2.7/site-packages/sklearn/preprocessing/data.py:583: DeprecationWarning: Passing 1d arrays as data is deprecated in 0.17 and will raise ValueError in 0.19. Reshape your data either using X.reshape(-1, 1) if your data has a single feature or X.reshape(1, -1) if it contains a single sample.\n",
      "  warnings.warn(DEPRECATION_MSG_1D, DeprecationWarning)\n",
      "/Users/ChiYuan/anaconda/lib/python2.7/site-packages/sklearn/preprocessing/data.py:583: DeprecationWarning: Passing 1d arrays as data is deprecated in 0.17 and will raise ValueError in 0.19. Reshape your data either using X.reshape(-1, 1) if your data has a single feature or X.reshape(1, -1) if it contains a single sample.\n",
      "  warnings.warn(DEPRECATION_MSG_1D, DeprecationWarning)\n",
      "/Users/ChiYuan/anaconda/lib/python2.7/site-packages/sklearn/preprocessing/data.py:583: DeprecationWarning: Passing 1d arrays as data is deprecated in 0.17 and will raise ValueError in 0.19. Reshape your data either using X.reshape(-1, 1) if your data has a single feature or X.reshape(1, -1) if it contains a single sample.\n",
      "  warnings.warn(DEPRECATION_MSG_1D, DeprecationWarning)\n",
      "/Users/ChiYuan/anaconda/lib/python2.7/site-packages/sklearn/preprocessing/data.py:583: DeprecationWarning: Passing 1d arrays as data is deprecated in 0.17 and will raise ValueError in 0.19. Reshape your data either using X.reshape(-1, 1) if your data has a single feature or X.reshape(1, -1) if it contains a single sample.\n",
      "  warnings.warn(DEPRECATION_MSG_1D, DeprecationWarning)\n",
      "/Users/ChiYuan/anaconda/lib/python2.7/site-packages/sklearn/preprocessing/data.py:583: DeprecationWarning: Passing 1d arrays as data is deprecated in 0.17 and will raise ValueError in 0.19. Reshape your data either using X.reshape(-1, 1) if your data has a single feature or X.reshape(1, -1) if it contains a single sample.\n",
      "  warnings.warn(DEPRECATION_MSG_1D, DeprecationWarning)\n",
      "/Users/ChiYuan/anaconda/lib/python2.7/site-packages/sklearn/preprocessing/data.py:583: DeprecationWarning: Passing 1d arrays as data is deprecated in 0.17 and will raise ValueError in 0.19. Reshape your data either using X.reshape(-1, 1) if your data has a single feature or X.reshape(1, -1) if it contains a single sample.\n",
      "  warnings.warn(DEPRECATION_MSG_1D, DeprecationWarning)\n",
      "/Users/ChiYuan/anaconda/lib/python2.7/site-packages/sklearn/preprocessing/data.py:583: DeprecationWarning: Passing 1d arrays as data is deprecated in 0.17 and will raise ValueError in 0.19. Reshape your data either using X.reshape(-1, 1) if your data has a single feature or X.reshape(1, -1) if it contains a single sample.\n",
      "  warnings.warn(DEPRECATION_MSG_1D, DeprecationWarning)\n",
      "/Users/ChiYuan/anaconda/lib/python2.7/site-packages/sklearn/preprocessing/data.py:583: DeprecationWarning: Passing 1d arrays as data is deprecated in 0.17 and will raise ValueError in 0.19. Reshape your data either using X.reshape(-1, 1) if your data has a single feature or X.reshape(1, -1) if it contains a single sample.\n",
      "  warnings.warn(DEPRECATION_MSG_1D, DeprecationWarning)\n",
      "/Users/ChiYuan/anaconda/lib/python2.7/site-packages/sklearn/preprocessing/data.py:583: DeprecationWarning: Passing 1d arrays as data is deprecated in 0.17 and will raise ValueError in 0.19. Reshape your data either using X.reshape(-1, 1) if your data has a single feature or X.reshape(1, -1) if it contains a single sample.\n",
      "  warnings.warn(DEPRECATION_MSG_1D, DeprecationWarning)\n",
      "/Users/ChiYuan/anaconda/lib/python2.7/site-packages/sklearn/preprocessing/data.py:583: DeprecationWarning: Passing 1d arrays as data is deprecated in 0.17 and will raise ValueError in 0.19. Reshape your data either using X.reshape(-1, 1) if your data has a single feature or X.reshape(1, -1) if it contains a single sample.\n",
      "  warnings.warn(DEPRECATION_MSG_1D, DeprecationWarning)\n",
      "/Users/ChiYuan/anaconda/lib/python2.7/site-packages/sklearn/preprocessing/data.py:583: DeprecationWarning: Passing 1d arrays as data is deprecated in 0.17 and will raise ValueError in 0.19. Reshape your data either using X.reshape(-1, 1) if your data has a single feature or X.reshape(1, -1) if it contains a single sample.\n",
      "  warnings.warn(DEPRECATION_MSG_1D, DeprecationWarning)\n",
      "/Users/ChiYuan/anaconda/lib/python2.7/site-packages/sklearn/preprocessing/data.py:583: DeprecationWarning: Passing 1d arrays as data is deprecated in 0.17 and will raise ValueError in 0.19. Reshape your data either using X.reshape(-1, 1) if your data has a single feature or X.reshape(1, -1) if it contains a single sample.\n",
      "  warnings.warn(DEPRECATION_MSG_1D, DeprecationWarning)\n",
      "/Users/ChiYuan/anaconda/lib/python2.7/site-packages/sklearn/preprocessing/data.py:583: DeprecationWarning: Passing 1d arrays as data is deprecated in 0.17 and will raise ValueError in 0.19. Reshape your data either using X.reshape(-1, 1) if your data has a single feature or X.reshape(1, -1) if it contains a single sample.\n",
      "  warnings.warn(DEPRECATION_MSG_1D, DeprecationWarning)\n",
      "/Users/ChiYuan/anaconda/lib/python2.7/site-packages/sklearn/preprocessing/data.py:583: DeprecationWarning: Passing 1d arrays as data is deprecated in 0.17 and will raise ValueError in 0.19. Reshape your data either using X.reshape(-1, 1) if your data has a single feature or X.reshape(1, -1) if it contains a single sample.\n",
      "  warnings.warn(DEPRECATION_MSG_1D, DeprecationWarning)\n",
      "/Users/ChiYuan/anaconda/lib/python2.7/site-packages/sklearn/preprocessing/data.py:583: DeprecationWarning: Passing 1d arrays as data is deprecated in 0.17 and will raise ValueError in 0.19. Reshape your data either using X.reshape(-1, 1) if your data has a single feature or X.reshape(1, -1) if it contains a single sample.\n",
      "  warnings.warn(DEPRECATION_MSG_1D, DeprecationWarning)\n",
      "/Users/ChiYuan/anaconda/lib/python2.7/site-packages/sklearn/preprocessing/data.py:583: DeprecationWarning: Passing 1d arrays as data is deprecated in 0.17 and will raise ValueError in 0.19. Reshape your data either using X.reshape(-1, 1) if your data has a single feature or X.reshape(1, -1) if it contains a single sample.\n",
      "  warnings.warn(DEPRECATION_MSG_1D, DeprecationWarning)\n"
     ]
    }
   ],
   "source": [
    "continuous_feature = [\"Year\",\"Hour\",\"X\",\"Y\"] + train_address_feature[1:]\n",
    "def numerical_feature_preprocess(continuous_feature,train,test):\n",
    "    scaler = StandardScaler()\n",
    "    for col in continuous_feature:\n",
    "        scaler.fit(train[col])\n",
    "        train[col] = scaler.transform(train[col].reshape(-1, 1))\n",
    "        test[col] = scaler.transform(test[col].reshape(-1, 1))\n",
    "numerical_feature_preprocess(continuous_feature,train,test)  "
   ]
  },
  {
   "cell_type": "code",
   "execution_count": 22,
   "metadata": {
    "collapsed": true
   },
   "outputs": [],
   "source": [
    "# test[\"PdDistrict_encoded\"] = pd_district_encoded.transform(test[\"PdDistrict\"])\n"
   ]
  },
  {
   "cell_type": "code",
   "execution_count": 23,
   "metadata": {},
   "outputs": [
    {
     "data": {
      "text/html": [
       "<div>\n",
       "<table border=\"1\" class=\"dataframe\">\n",
       "  <thead>\n",
       "    <tr style=\"text-align: right;\">\n",
       "      <th></th>\n",
       "      <th>Year</th>\n",
       "      <th>Hour</th>\n",
       "      <th>X</th>\n",
       "      <th>Y</th>\n",
       "      <th>logoddsPA</th>\n",
       "      <th>logodds0</th>\n",
       "      <th>logodds1</th>\n",
       "      <th>logodds2</th>\n",
       "      <th>logodds3</th>\n",
       "      <th>logodds4</th>\n",
       "      <th>...</th>\n",
       "      <th>10</th>\n",
       "      <th>11</th>\n",
       "      <th>12</th>\n",
       "      <th>Friday</th>\n",
       "      <th>Monday</th>\n",
       "      <th>Saturday</th>\n",
       "      <th>Sunday</th>\n",
       "      <th>Thursday</th>\n",
       "      <th>Tuesday</th>\n",
       "      <th>Wednesday</th>\n",
       "    </tr>\n",
       "  </thead>\n",
       "  <tbody>\n",
       "    <tr>\n",
       "      <th>0</th>\n",
       "      <td>1.73165</td>\n",
       "      <td>1.463813</td>\n",
       "      <td>-0.123710</td>\n",
       "      <td>0.312986</td>\n",
       "      <td>-0.645158</td>\n",
       "      <td>-0.065564</td>\n",
       "      <td>-0.076277</td>\n",
       "      <td>-0.087611</td>\n",
       "      <td>-0.157649</td>\n",
       "      <td>-0.072074</td>\n",
       "      <td>...</td>\n",
       "      <td>0</td>\n",
       "      <td>0</td>\n",
       "      <td>0</td>\n",
       "      <td>0</td>\n",
       "      <td>0</td>\n",
       "      <td>0</td>\n",
       "      <td>0</td>\n",
       "      <td>0</td>\n",
       "      <td>0</td>\n",
       "      <td>1</td>\n",
       "    </tr>\n",
       "    <tr>\n",
       "      <th>1</th>\n",
       "      <td>1.73165</td>\n",
       "      <td>1.463813</td>\n",
       "      <td>-0.123710</td>\n",
       "      <td>0.312986</td>\n",
       "      <td>-0.645158</td>\n",
       "      <td>-0.065564</td>\n",
       "      <td>-0.076277</td>\n",
       "      <td>-0.087611</td>\n",
       "      <td>-0.157649</td>\n",
       "      <td>-0.072074</td>\n",
       "      <td>...</td>\n",
       "      <td>0</td>\n",
       "      <td>0</td>\n",
       "      <td>0</td>\n",
       "      <td>0</td>\n",
       "      <td>0</td>\n",
       "      <td>0</td>\n",
       "      <td>0</td>\n",
       "      <td>0</td>\n",
       "      <td>0</td>\n",
       "      <td>1</td>\n",
       "    </tr>\n",
       "    <tr>\n",
       "      <th>2</th>\n",
       "      <td>1.73165</td>\n",
       "      <td>1.463813</td>\n",
       "      <td>-0.063250</td>\n",
       "      <td>1.381343</td>\n",
       "      <td>-1.008893</td>\n",
       "      <td>-0.065564</td>\n",
       "      <td>-0.076277</td>\n",
       "      <td>-0.087611</td>\n",
       "      <td>-0.157649</td>\n",
       "      <td>-0.072074</td>\n",
       "      <td>...</td>\n",
       "      <td>0</td>\n",
       "      <td>0</td>\n",
       "      <td>0</td>\n",
       "      <td>0</td>\n",
       "      <td>0</td>\n",
       "      <td>0</td>\n",
       "      <td>0</td>\n",
       "      <td>0</td>\n",
       "      <td>0</td>\n",
       "      <td>1</td>\n",
       "    </tr>\n",
       "    <tr>\n",
       "      <th>3</th>\n",
       "      <td>1.73165</td>\n",
       "      <td>1.463813</td>\n",
       "      <td>-0.167361</td>\n",
       "      <td>1.400310</td>\n",
       "      <td>0.025138</td>\n",
       "      <td>-0.065564</td>\n",
       "      <td>-1.096232</td>\n",
       "      <td>-0.087611</td>\n",
       "      <td>-0.157649</td>\n",
       "      <td>1.524265</td>\n",
       "      <td>...</td>\n",
       "      <td>0</td>\n",
       "      <td>0</td>\n",
       "      <td>0</td>\n",
       "      <td>0</td>\n",
       "      <td>0</td>\n",
       "      <td>0</td>\n",
       "      <td>0</td>\n",
       "      <td>0</td>\n",
       "      <td>0</td>\n",
       "      <td>1</td>\n",
       "    </tr>\n",
       "    <tr>\n",
       "      <th>4</th>\n",
       "      <td>1.73165</td>\n",
       "      <td>1.463813</td>\n",
       "      <td>-0.631782</td>\n",
       "      <td>0.186458</td>\n",
       "      <td>-0.566802</td>\n",
       "      <td>-0.065564</td>\n",
       "      <td>-0.076277</td>\n",
       "      <td>-0.087611</td>\n",
       "      <td>-0.157649</td>\n",
       "      <td>2.256390</td>\n",
       "      <td>...</td>\n",
       "      <td>0</td>\n",
       "      <td>0</td>\n",
       "      <td>0</td>\n",
       "      <td>0</td>\n",
       "      <td>0</td>\n",
       "      <td>0</td>\n",
       "      <td>0</td>\n",
       "      <td>0</td>\n",
       "      <td>0</td>\n",
       "      <td>1</td>\n",
       "    </tr>\n",
       "  </tbody>\n",
       "</table>\n",
       "<p>5 rows × 74 columns</p>\n",
       "</div>"
      ],
      "text/plain": [
       "      Year      Hour         X         Y  logoddsPA  logodds0  logodds1  \\\n",
       "0  1.73165  1.463813 -0.123710  0.312986  -0.645158 -0.065564 -0.076277   \n",
       "1  1.73165  1.463813 -0.123710  0.312986  -0.645158 -0.065564 -0.076277   \n",
       "2  1.73165  1.463813 -0.063250  1.381343  -1.008893 -0.065564 -0.076277   \n",
       "3  1.73165  1.463813 -0.167361  1.400310   0.025138 -0.065564 -1.096232   \n",
       "4  1.73165  1.463813 -0.631782  0.186458  -0.566802 -0.065564 -0.076277   \n",
       "\n",
       "   logodds2  logodds3  logodds4    ...      10  11  12  Friday  Monday  \\\n",
       "0 -0.087611 -0.157649 -0.072074    ...       0   0   0       0       0   \n",
       "1 -0.087611 -0.157649 -0.072074    ...       0   0   0       0       0   \n",
       "2 -0.087611 -0.157649 -0.072074    ...       0   0   0       0       0   \n",
       "3 -0.087611 -0.157649  1.524265    ...       0   0   0       0       0   \n",
       "4 -0.087611 -0.157649  2.256390    ...       0   0   0       0       0   \n",
       "\n",
       "   Saturday  Sunday  Thursday  Tuesday  Wednesday  \n",
       "0         0       0         0        0          1  \n",
       "1         0       0         0        0          1  \n",
       "2         0       0         0        0          1  \n",
       "3         0       0         0        0          1  \n",
       "4         0       0         0        0          1  \n",
       "\n",
       "[5 rows x 74 columns]"
      ]
     },
     "execution_count": 23,
     "metadata": {},
     "output_type": "execute_result"
    }
   ],
   "source": [
    "train_data = pd.concat([train[continuous_feature + [\"Intersection\"]],train_categorical],axis=1)\n",
    "\n",
    "train_data.head()\n"
   ]
  },
  {
   "cell_type": "code",
   "execution_count": 24,
   "metadata": {},
   "outputs": [
    {
     "data": {
      "text/html": [
       "<div>\n",
       "<table border=\"1\" class=\"dataframe\">\n",
       "  <thead>\n",
       "    <tr style=\"text-align: right;\">\n",
       "      <th></th>\n",
       "      <th>Year</th>\n",
       "      <th>Hour</th>\n",
       "      <th>X</th>\n",
       "      <th>Y</th>\n",
       "      <th>logoddsPA</th>\n",
       "      <th>logodds0</th>\n",
       "      <th>logodds1</th>\n",
       "      <th>logodds2</th>\n",
       "      <th>logodds3</th>\n",
       "      <th>logodds4</th>\n",
       "      <th>...</th>\n",
       "      <th>10</th>\n",
       "      <th>11</th>\n",
       "      <th>12</th>\n",
       "      <th>Friday</th>\n",
       "      <th>Monday</th>\n",
       "      <th>Saturday</th>\n",
       "      <th>Sunday</th>\n",
       "      <th>Thursday</th>\n",
       "      <th>Tuesday</th>\n",
       "      <th>Wednesday</th>\n",
       "    </tr>\n",
       "  </thead>\n",
       "  <tbody>\n",
       "    <tr>\n",
       "      <th>0</th>\n",
       "      <td>1.73165</td>\n",
       "      <td>1.463813</td>\n",
       "      <td>0.916643</td>\n",
       "      <td>-1.323649</td>\n",
       "      <td>-0.435417</td>\n",
       "      <td>-0.065564</td>\n",
       "      <td>0.515400</td>\n",
       "      <td>-0.087611</td>\n",
       "      <td>-0.157649</td>\n",
       "      <td>-0.072074</td>\n",
       "      <td>...</td>\n",
       "      <td>0</td>\n",
       "      <td>0</td>\n",
       "      <td>0</td>\n",
       "      <td>0</td>\n",
       "      <td>0</td>\n",
       "      <td>0</td>\n",
       "      <td>1</td>\n",
       "      <td>0</td>\n",
       "      <td>0</td>\n",
       "      <td>0</td>\n",
       "    </tr>\n",
       "    <tr>\n",
       "      <th>1</th>\n",
       "      <td>1.73165</td>\n",
       "      <td>1.463813</td>\n",
       "      <td>1.235615</td>\n",
       "      <td>-1.432019</td>\n",
       "      <td>0.162736</td>\n",
       "      <td>-0.065564</td>\n",
       "      <td>0.348945</td>\n",
       "      <td>-0.087611</td>\n",
       "      <td>-0.157649</td>\n",
       "      <td>-0.072074</td>\n",
       "      <td>...</td>\n",
       "      <td>0</td>\n",
       "      <td>0</td>\n",
       "      <td>0</td>\n",
       "      <td>0</td>\n",
       "      <td>0</td>\n",
       "      <td>0</td>\n",
       "      <td>1</td>\n",
       "      <td>0</td>\n",
       "      <td>0</td>\n",
       "      <td>0</td>\n",
       "    </tr>\n",
       "    <tr>\n",
       "      <th>2</th>\n",
       "      <td>1.73165</td>\n",
       "      <td>1.463813</td>\n",
       "      <td>-0.128072</td>\n",
       "      <td>1.041917</td>\n",
       "      <td>-1.060107</td>\n",
       "      <td>-0.065564</td>\n",
       "      <td>-0.076277</td>\n",
       "      <td>-0.087611</td>\n",
       "      <td>-0.157649</td>\n",
       "      <td>2.546570</td>\n",
       "      <td>...</td>\n",
       "      <td>0</td>\n",
       "      <td>0</td>\n",
       "      <td>0</td>\n",
       "      <td>0</td>\n",
       "      <td>0</td>\n",
       "      <td>0</td>\n",
       "      <td>1</td>\n",
       "      <td>0</td>\n",
       "      <td>0</td>\n",
       "      <td>0</td>\n",
       "    </tr>\n",
       "    <tr>\n",
       "      <th>3</th>\n",
       "      <td>1.73165</td>\n",
       "      <td>1.463813</td>\n",
       "      <td>-0.578640</td>\n",
       "      <td>-1.888083</td>\n",
       "      <td>0.626303</td>\n",
       "      <td>-0.065564</td>\n",
       "      <td>1.700197</td>\n",
       "      <td>-0.087611</td>\n",
       "      <td>-0.157649</td>\n",
       "      <td>-0.267456</td>\n",
       "      <td>...</td>\n",
       "      <td>0</td>\n",
       "      <td>0</td>\n",
       "      <td>0</td>\n",
       "      <td>0</td>\n",
       "      <td>0</td>\n",
       "      <td>0</td>\n",
       "      <td>1</td>\n",
       "      <td>0</td>\n",
       "      <td>0</td>\n",
       "      <td>0</td>\n",
       "    </tr>\n",
       "    <tr>\n",
       "      <th>4</th>\n",
       "      <td>1.73165</td>\n",
       "      <td>1.463813</td>\n",
       "      <td>-0.578640</td>\n",
       "      <td>-1.888083</td>\n",
       "      <td>0.626303</td>\n",
       "      <td>-0.065564</td>\n",
       "      <td>1.700197</td>\n",
       "      <td>-0.087611</td>\n",
       "      <td>-0.157649</td>\n",
       "      <td>-0.267456</td>\n",
       "      <td>...</td>\n",
       "      <td>0</td>\n",
       "      <td>0</td>\n",
       "      <td>0</td>\n",
       "      <td>0</td>\n",
       "      <td>0</td>\n",
       "      <td>0</td>\n",
       "      <td>1</td>\n",
       "      <td>0</td>\n",
       "      <td>0</td>\n",
       "      <td>0</td>\n",
       "    </tr>\n",
       "  </tbody>\n",
       "</table>\n",
       "<p>5 rows × 74 columns</p>\n",
       "</div>"
      ],
      "text/plain": [
       "      Year      Hour         X         Y  logoddsPA  logodds0  logodds1  \\\n",
       "0  1.73165  1.463813  0.916643 -1.323649  -0.435417 -0.065564  0.515400   \n",
       "1  1.73165  1.463813  1.235615 -1.432019   0.162736 -0.065564  0.348945   \n",
       "2  1.73165  1.463813 -0.128072  1.041917  -1.060107 -0.065564 -0.076277   \n",
       "3  1.73165  1.463813 -0.578640 -1.888083   0.626303 -0.065564  1.700197   \n",
       "4  1.73165  1.463813 -0.578640 -1.888083   0.626303 -0.065564  1.700197   \n",
       "\n",
       "   logodds2  logodds3  logodds4    ...      10  11  12  Friday  Monday  \\\n",
       "0 -0.087611 -0.157649 -0.072074    ...       0   0   0       0       0   \n",
       "1 -0.087611 -0.157649 -0.072074    ...       0   0   0       0       0   \n",
       "2 -0.087611 -0.157649  2.546570    ...       0   0   0       0       0   \n",
       "3 -0.087611 -0.157649 -0.267456    ...       0   0   0       0       0   \n",
       "4 -0.087611 -0.157649 -0.267456    ...       0   0   0       0       0   \n",
       "\n",
       "   Saturday  Sunday  Thursday  Tuesday  Wednesday  \n",
       "0         0       1         0        0          0  \n",
       "1         0       1         0        0          0  \n",
       "2         0       1         0        0          0  \n",
       "3         0       1         0        0          0  \n",
       "4         0       1         0        0          0  \n",
       "\n",
       "[5 rows x 74 columns]"
      ]
     },
     "execution_count": 24,
     "metadata": {},
     "output_type": "execute_result"
    }
   ],
   "source": [
    "test_data = pd.concat([test[continuous_feature+ [\"Intersection\"]],test_categorical],axis=1)\n",
    "test_data.head()"
   ]
  },
  {
   "cell_type": "code",
   "execution_count": 25,
   "metadata": {},
   "outputs": [
    {
     "data": {
      "text/plain": [
       "(884262, 74)"
      ]
     },
     "execution_count": 25,
     "metadata": {},
     "output_type": "execute_result"
    }
   ],
   "source": [
    "test_data.shape"
   ]
  },
  {
   "cell_type": "code",
   "execution_count": 6,
   "metadata": {},
   "outputs": [],
   "source": [
    "train_data = pd.read_csv(\"train_data_fe.csv\") #train_data is saved separately\n",
    "del train_data['Unnamed: 0']"
   ]
  },
  {
   "cell_type": "code",
   "execution_count": 7,
   "metadata": {},
   "outputs": [
    {
     "data": {
      "text/html": [
       "<div>\n",
       "<table border=\"1\" class=\"dataframe\">\n",
       "  <thead>\n",
       "    <tr style=\"text-align: right;\">\n",
       "      <th></th>\n",
       "      <th>Year</th>\n",
       "      <th>Hour</th>\n",
       "      <th>X</th>\n",
       "      <th>Y</th>\n",
       "      <th>logoddsPA</th>\n",
       "      <th>logodds0</th>\n",
       "      <th>logodds1</th>\n",
       "      <th>logodds2</th>\n",
       "      <th>logodds3</th>\n",
       "      <th>logodds4</th>\n",
       "      <th>...</th>\n",
       "      <th>10</th>\n",
       "      <th>11</th>\n",
       "      <th>12</th>\n",
       "      <th>Friday</th>\n",
       "      <th>Monday</th>\n",
       "      <th>Saturday</th>\n",
       "      <th>Sunday</th>\n",
       "      <th>Thursday</th>\n",
       "      <th>Tuesday</th>\n",
       "      <th>Wednesday</th>\n",
       "    </tr>\n",
       "  </thead>\n",
       "  <tbody>\n",
       "    <tr>\n",
       "      <th>0</th>\n",
       "      <td>1.73165</td>\n",
       "      <td>1.463813</td>\n",
       "      <td>-0.123710</td>\n",
       "      <td>0.312986</td>\n",
       "      <td>-0.645158</td>\n",
       "      <td>-0.065564</td>\n",
       "      <td>-0.076277</td>\n",
       "      <td>-0.087611</td>\n",
       "      <td>-0.157649</td>\n",
       "      <td>-0.072074</td>\n",
       "      <td>...</td>\n",
       "      <td>0</td>\n",
       "      <td>0</td>\n",
       "      <td>0</td>\n",
       "      <td>0</td>\n",
       "      <td>0</td>\n",
       "      <td>0</td>\n",
       "      <td>0</td>\n",
       "      <td>0</td>\n",
       "      <td>0</td>\n",
       "      <td>1</td>\n",
       "    </tr>\n",
       "    <tr>\n",
       "      <th>1</th>\n",
       "      <td>1.73165</td>\n",
       "      <td>1.463813</td>\n",
       "      <td>-0.123710</td>\n",
       "      <td>0.312986</td>\n",
       "      <td>-0.645158</td>\n",
       "      <td>-0.065564</td>\n",
       "      <td>-0.076277</td>\n",
       "      <td>-0.087611</td>\n",
       "      <td>-0.157649</td>\n",
       "      <td>-0.072074</td>\n",
       "      <td>...</td>\n",
       "      <td>0</td>\n",
       "      <td>0</td>\n",
       "      <td>0</td>\n",
       "      <td>0</td>\n",
       "      <td>0</td>\n",
       "      <td>0</td>\n",
       "      <td>0</td>\n",
       "      <td>0</td>\n",
       "      <td>0</td>\n",
       "      <td>1</td>\n",
       "    </tr>\n",
       "    <tr>\n",
       "      <th>2</th>\n",
       "      <td>1.73165</td>\n",
       "      <td>1.463813</td>\n",
       "      <td>-0.063250</td>\n",
       "      <td>1.381343</td>\n",
       "      <td>-1.008893</td>\n",
       "      <td>-0.065564</td>\n",
       "      <td>-0.076277</td>\n",
       "      <td>-0.087611</td>\n",
       "      <td>-0.157649</td>\n",
       "      <td>-0.072074</td>\n",
       "      <td>...</td>\n",
       "      <td>0</td>\n",
       "      <td>0</td>\n",
       "      <td>0</td>\n",
       "      <td>0</td>\n",
       "      <td>0</td>\n",
       "      <td>0</td>\n",
       "      <td>0</td>\n",
       "      <td>0</td>\n",
       "      <td>0</td>\n",
       "      <td>1</td>\n",
       "    </tr>\n",
       "    <tr>\n",
       "      <th>3</th>\n",
       "      <td>1.73165</td>\n",
       "      <td>1.463813</td>\n",
       "      <td>-0.167361</td>\n",
       "      <td>1.400310</td>\n",
       "      <td>0.025138</td>\n",
       "      <td>-0.065564</td>\n",
       "      <td>-1.096232</td>\n",
       "      <td>-0.087611</td>\n",
       "      <td>-0.157649</td>\n",
       "      <td>1.524265</td>\n",
       "      <td>...</td>\n",
       "      <td>0</td>\n",
       "      <td>0</td>\n",
       "      <td>0</td>\n",
       "      <td>0</td>\n",
       "      <td>0</td>\n",
       "      <td>0</td>\n",
       "      <td>0</td>\n",
       "      <td>0</td>\n",
       "      <td>0</td>\n",
       "      <td>1</td>\n",
       "    </tr>\n",
       "    <tr>\n",
       "      <th>4</th>\n",
       "      <td>1.73165</td>\n",
       "      <td>1.463813</td>\n",
       "      <td>-0.631782</td>\n",
       "      <td>0.186458</td>\n",
       "      <td>-0.566802</td>\n",
       "      <td>-0.065564</td>\n",
       "      <td>-0.076277</td>\n",
       "      <td>-0.087611</td>\n",
       "      <td>-0.157649</td>\n",
       "      <td>2.256390</td>\n",
       "      <td>...</td>\n",
       "      <td>0</td>\n",
       "      <td>0</td>\n",
       "      <td>0</td>\n",
       "      <td>0</td>\n",
       "      <td>0</td>\n",
       "      <td>0</td>\n",
       "      <td>0</td>\n",
       "      <td>0</td>\n",
       "      <td>0</td>\n",
       "      <td>1</td>\n",
       "    </tr>\n",
       "  </tbody>\n",
       "</table>\n",
       "<p>5 rows × 74 columns</p>\n",
       "</div>"
      ],
      "text/plain": [
       "      Year      Hour         X         Y  logoddsPA  logodds0  logodds1  \\\n",
       "0  1.73165  1.463813 -0.123710  0.312986  -0.645158 -0.065564 -0.076277   \n",
       "1  1.73165  1.463813 -0.123710  0.312986  -0.645158 -0.065564 -0.076277   \n",
       "2  1.73165  1.463813 -0.063250  1.381343  -1.008893 -0.065564 -0.076277   \n",
       "3  1.73165  1.463813 -0.167361  1.400310   0.025138 -0.065564 -1.096232   \n",
       "4  1.73165  1.463813 -0.631782  0.186458  -0.566802 -0.065564 -0.076277   \n",
       "\n",
       "   logodds2  logodds3  logodds4    ...      10  11  12  Friday  Monday  \\\n",
       "0 -0.087611 -0.157649 -0.072074    ...       0   0   0       0       0   \n",
       "1 -0.087611 -0.157649 -0.072074    ...       0   0   0       0       0   \n",
       "2 -0.087611 -0.157649 -0.072074    ...       0   0   0       0       0   \n",
       "3 -0.087611 -0.157649  1.524265    ...       0   0   0       0       0   \n",
       "4 -0.087611 -0.157649  2.256390    ...       0   0   0       0       0   \n",
       "\n",
       "   Saturday  Sunday  Thursday  Tuesday  Wednesday  \n",
       "0         0       0         0        0          1  \n",
       "1         0       0         0        0          1  \n",
       "2         0       0         0        0          1  \n",
       "3         0       0         0        0          1  \n",
       "4         0       0         0        0          1  \n",
       "\n",
       "[5 rows x 74 columns]"
      ]
     },
     "execution_count": 7,
     "metadata": {},
     "output_type": "execute_result"
    }
   ],
   "source": [
    "train_data.head()"
   ]
  },
  {
   "cell_type": "code",
   "execution_count": 9,
   "metadata": {},
   "outputs": [
    {
     "data": {
      "text/plain": [
       "(878049, 74)"
      ]
     },
     "execution_count": 9,
     "metadata": {},
     "output_type": "execute_result"
    }
   ],
   "source": [
    "train_data.shape"
   ]
  },
  {
   "cell_type": "code",
   "execution_count": 12,
   "metadata": {
    "collapsed": true
   },
   "outputs": [],
   "source": [
    "from sklearn import decomposition"
   ]
  },
  {
   "cell_type": "code",
   "execution_count": 14,
   "metadata": {},
   "outputs": [
    {
     "data": {
      "text/plain": [
       "<matplotlib.text.Text at 0x1181b5990>"
      ]
     },
     "execution_count": 14,
     "metadata": {},
     "output_type": "execute_result"
    },
    {
     "data": {
      "image/png": "[encoded data removed]",
      "text/plain": [
       "<matplotlib.figure.Figure at 0x116cbb390>"
      ]
     },
     "metadata": {},
     "output_type": "display_data"
    }
   ],
   "source": [
    "pca=decomposition.PCA()\n",
    "pca.fit(train_data)\n",
    "plt.figure(1, figsize=(4, 3))\n",
    "plt.clf()\n",
    "plt.axes([.2, .2, .7, .7])\n",
    "plt.plot(pca.explained_variance_ratio_.cumsum(), linewidth=2)\n",
    "plt.axis('tight')\n",
    "plt.xlabel('n_components')\n",
    "plt.ylabel('explained_variance_cumulative')"
   ]
  },
  {
   "cell_type": "code",
   "execution_count": 16,
   "metadata": {},
   "outputs": [],
   "source": [
    "new_pca=decomposition.PCA(n_components=35)\n",
    "new_pca.fit(train_data)\n",
    "train_data_pca=new_pca.transform(train_data)\n",
    "train_data_pca=pd.DataFrame(train_data_pca)"
   ]
  },
  {
   "cell_type": "code",
   "execution_count": 20,
   "metadata": {},
   "outputs": [
    {
     "data": {
      "text/plain": [
       "(878049, 35)"
      ]
     },
     "execution_count": 20,
     "metadata": {},
     "output_type": "execute_result"
    }
   ],
   "source": [
    "train_data_pca.shape"
   ]
  },
  {
   "cell_type": "code",
   "execution_count": 21,
   "metadata": {},
   "outputs": [
    {
     "data": {
      "text/plain": [
       "(878049, 74)"
      ]
     },
     "execution_count": 21,
     "metadata": {},
     "output_type": "execute_result"
    }
   ],
   "source": [
    "train_data.shape"
   ]
  },
  {
   "cell_type": "code",
   "execution_count": 10,
   "metadata": {
    "collapsed": true
   },
   "outputs": [],
   "source": [
    "from sklearn.ensemble import RandomForestClassifier\n",
    "crime_rf = RandomForestClassifier(n_estimators=100,oob_score = True, min_samples_split=16, min_samples_leaf=8)"
   ]
  },
  {
   "cell_type": "markdown",
   "metadata": {},
   "source": [
    "skipped the following cv as it will lead to issue of dead kernel\n",
    "it produces cv scores  [-3.07570828 -2.55354627 -2.50239896 -2.52524975 -3.16510384]"
   ]
  },
  {
   "cell_type": "code",
   "execution_count": null,
   "metadata": {},
   "outputs": [
    {
     "data": {
      "text/plain": [
       "\"\\nrf_score = cross_validation.cross_val_score(crime_rf,train_data,train['category_encoded'],cv=5,scoring='log_loss')\\nprint rf_score\\n\""
      ]
     },
     "execution_count": 27,
     "metadata": {},
     "output_type": "execute_result"
    }
   ],
   "source": [
    "\"\"\"\n",
    "rf_score = cross_validation.cross_val_score(crime_rf,train_data,train['category_encoded'],cv=5,scoring='log_loss')\n",
    "print rf_score\n",
    "\"\"\"\n",
    "\n",
    "\n"
   ]
  },
  {
   "cell_type": "code",
   "execution_count": 11,
   "metadata": {},
   "outputs": [],
   "source": [
    "\n",
    "crime_rf.fit(train_data_pca,train['category_encoded'])\n",
    "train_error = log_loss(train[\"category_encoded\"],np.array(crime_rf.predict_proba(train_data_pca)))"
   ]
  },
  {
   "cell_type": "code",
   "execution_count": null,
   "metadata": {},
   "outputs": [],
   "source": [
    "print train_error"
   ]
  },
  {
   "cell_type": "code",
   "execution_count": null,
   "metadata": {},
   "outputs": [],
   "source": [
    "crime_rf.feature_importances_"
   ]
  },
  {
   "cell_type": "code",
   "execution_count": null,
   "metadata": {
    "collapsed": true
   },
   "outputs": [],
   "source": [
    "\"\"\"\n",
    "train_data.to_csv(\"train_data_fe.csv\",index = Fa)\n",
    "test_data.to_csv(\"test_data_fe.csv\")\n",
    "\"\"\""
   ]
  },
  {
   "cell_type": "code",
   "execution_count": null,
   "metadata": {},
   "outputs": [],
   "source": [
    "np.mean((train[\"category_encoded\"]==crime_rf.predict(train_data)))"
   ]
  },
  {
   "cell_type": "code",
   "execution_count": null,
   "metadata": {
    "collapsed": true
   },
   "outputs": [],
   "source": []
  },
  {
   "cell_type": "code",
   "execution_count": null,
   "metadata": {},
   "outputs": [],
   "source": [
    "rf_predict = crime_rf.predict_proba(test_data)\n",
    "rf_resulit = pd.DataFrame(rf_predict,columns = category_encoded.classes_)\n"
   ]
  },
  {
   "cell_type": "code",
   "execution_count": null,
   "metadata": {
    "collapsed": true
   },
   "outputs": [],
   "source": [
    "rf_resulit.head()\n",
    "rf_resulit.to_csv(\"randomForest.csv\",index=True,index_label ='Id' )"
   ]
  },
  {
   "cell_type": "code",
   "execution_count": null,
   "metadata": {
    "collapsed": true
   },
   "outputs": [],
   "source": []
  }
 ],
 "metadata": {
  "kernelspec": {
   "display_name": "Python 2",
   "language": "python",
   "name": "python2"
  },
  "language_info": {
   "codemirror_mode": {
    "name": "ipython",
    "version": 2
   },
   "file_extension": ".py",
   "mimetype": "text/x-python",
   "name": "python",
   "nbconvert_exporter": "python",
   "pygments_lexer": "ipython2",
   "version": "2.7.12"
  }
 },
 "nbformat": 4,
 "nbformat_minor": 1
}
